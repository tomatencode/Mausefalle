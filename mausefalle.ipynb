{
  "nbformat": 4,
  "nbformat_minor": 0,
  "metadata": {
    "colab": {
      "provenance": [],
      "authorship_tag": "ABX9TyPvWsuo7U+YVJvqy9T/QDxN",
      "include_colab_link": true
    },
    "kernelspec": {
      "name": "python3",
      "display_name": "Python 3"
    },
    "language_info": {
      "name": "python"
    }
  },
  "cells": [
    {
      "cell_type": "markdown",
      "metadata": {
        "id": "view-in-github",
        "colab_type": "text"
      },
      "source": [
        "<a href=\"https://colab.research.google.com/github/tomatencode/Mausefalle/blob/main/mausefalle.ipynb\" target=\"_parent\"><img src=\"https://colab.research.google.com/assets/colab-badge.svg\" alt=\"Open In Colab\"/></a>"
      ]
    },
    {
      "cell_type": "markdown",
      "source": [
        "**Mausefalle**"
      ],
      "metadata": {
        "id": "Ce-LOpW3553K"
      }
    },
    {
      "cell_type": "code",
      "source": [
        "from math import *\n",
        "import scipy\n",
        "import matplotlib.pyplot as plt\n",
        "import numpy as np"
      ],
      "metadata": {
        "id": "SaCqiR0F7rob"
      },
      "execution_count": 12,
      "outputs": []
    },
    {
      "cell_type": "code",
      "execution_count": 19,
      "metadata": {
        "id": "wm-10Ozu5wCt"
      },
      "outputs": [],
      "source": [
        "u = 50 #[-] Verhältnis von Drehmoment der Feder zu Drehmoment der Achse\n",
        "rr = 0.1 #[m] radius des antriebsreifen\n",
        "m = 0.1 #[kg] masse des autos\n",
        "\n",
        "friction = True\n",
        "max_sim_length = 60 #[s] maximum simulation length\n",
        "\n",
        "tolleranz = 0.05 # erlaubte abweichung des energie erhaltungs Satzes"
      ]
    },
    {
      "cell_type": "markdown",
      "source": [
        "defenirt eigenschaften für auto und simulation\n",
        "\n",
        "$f(x)$\n",
        "\n",
        "$\\frac{1}{2}$\n",
        "\n",
        "$\\frac{df}{dx}$\n",
        "\n",
        "$\\int_0^x f(y)dy$\n",
        "\n"
      ],
      "metadata": {
        "id": "lPGRq-nD61JT"
      }
    },
    {
      "cell_type": "code",
      "source": [
        "def find_Fr(v):\n",
        "\n",
        "    return v / 20 # Wiederstand in [N] (Schätzwert)"
      ],
      "metadata": {
        "id": "IUQb5nNI7htL"
      },
      "execution_count": 8,
      "outputs": []
    },
    {
      "cell_type": "code",
      "source": [
        "def find_Ff(phi):\n",
        "\n",
        "    if phi < pi:\n",
        "        return 2 # Kraft der Feder in [Nm] (Schätzwert)\n",
        "    else:\n",
        "        return 0 # Kraft der Feder in [Nm]"
      ],
      "metadata": {
        "id": "fu3OCUTFJnW8"
      },
      "execution_count": 15,
      "outputs": []
    },
    {
      "cell_type": "markdown",
      "source": [
        "Benutzerdefinirte Funktionen zur berechnung von Federkraft und Reibung."
      ],
      "metadata": {
        "id": "ViIYDdWk7nQD"
      }
    },
    {
      "cell_type": "code",
      "source": [
        "def find_phi(x,rr,u):\n",
        "\n",
        "    ur = 2 * pi * rr # ur[m] = 2pi[-] * rr[m]\n",
        "    phi = x / ( ur * u ) # phi[-] = x[m] / (ur[m] * u[-])\n",
        "    phi_rad = 2 * pi * phi # phi_rad[rad] = 2pi[-] * phi[-]\n",
        "\n",
        "    return phi_rad # [rad]"
      ],
      "metadata": {
        "id": "0lRqCEQE8VUW"
      },
      "execution_count": 5,
      "outputs": []
    },
    {
      "cell_type": "markdown",
      "source": [
        "find_phi findet den Winkel der Mausefalle in radien.\n",
        "Dafür berechnet sie den umfang des Rades $ur$ mit dem radius $rr$:\n",
        "\n",
        "$ur = 2π \\cdot rr$\n",
        "\n",
        "dann berechnet sie die umdrehungen der falle $φ$ mit der zurückgelegten Strecke $x$ und der Getriebeübersetztung $u$:\n",
        "\n",
        "$φ = \\frac{x}{ur \\cdot u}$\n",
        "\n",
        "die umrehungen weden dann in Radien umgerechnet:\n",
        "\n",
        "$φ_{rad} = 2π \\cdot φ$"
      ],
      "metadata": {
        "id": "hLoILkR18kxb"
      }
    },
    {
      "cell_type": "code",
      "source": [
        "def find_Fa(rr,u,phi):\n",
        "\n",
        "    Ma = find_Ff(phi) # Ma[Nm] = Ff(phi[rad])[Nm]\n",
        "    Me = Ma / u # Me[Nm] = Ma / ü[-]\n",
        "    Fa = Me / rr # Fa[Nm] = Me[Nm] / rr[m]\n",
        "\n",
        "    return Fa # [N]"
      ],
      "metadata": {
        "id": "IpT0wf6y-A87"
      },
      "execution_count": 6,
      "outputs": []
    },
    {
      "cell_type": "markdown",
      "source": [
        "find_Fa findet die beschleunigungskraft des Autos $F_a$.\n",
        "dafur berechnet es das Drehmoment der mausefalle $M_a$ mit:\n",
        "\n",
        "$M_a = F_f(φ)$\n",
        "\n",
        "dann findet sie das Drehmoment der Achse $M_e$ mit der Getriebeübersetztung $u$:\n",
        "\n",
        "$M_e = \\frac{M_a}{u}$\n",
        "\n",
        "anschließend renchnet die Funktion $M_e$ in $F_a$ mit dem Radius der Reifen $rr$ um:\n",
        "\n",
        "$F_a = \\frac{M_e}{rr}$"
      ],
      "metadata": {
        "id": "NT7NxWZn-Gai"
      }
    },
    {
      "cell_type": "code",
      "source": [
        "def f(t, y):\n",
        "\n",
        "    [v,x] = y\n",
        "\n",
        "    return [ (find_Fa(rr,u,find_phi(x,rr,u)) - find_Fr(v))/m, v]\n"
      ],
      "metadata": {
        "id": "bpZ89SSdD0rc"
      },
      "execution_count": 9,
      "outputs": []
    },
    {
      "cell_type": "code",
      "source": [
        "def fnofric(t, y):\n",
        "\n",
        "    [v,x] = y\n",
        "\n",
        "    return [ find_Fa(rr,u,find_phi(x,rr,u))/m, v]"
      ],
      "metadata": {
        "id": "SBxa5PDwJZZM"
      },
      "execution_count": 14,
      "outputs": []
    },
    {
      "cell_type": "markdown",
      "source": [
        "$f(t, v, x)$ ist die differenzialgleichung mit der position und Geschwindigkeit des autos berechnet werden.\n",
        "\n",
        "$\\frac{dv}{dt} = F_a - F_r$\n",
        "\n",
        "$\\frac{dx}{dt} = v$\n",
        "\n",
        "$f_{no fric}(t, v,x)$ berechnet das selbe bei vernachlässigung der Reibung."
      ],
      "metadata": {
        "id": "eoJRtncZD7Lm"
      }
    },
    {
      "cell_type": "code",
      "source": [
        "def solve_ivp(max_sim_length,friction):\n",
        "\n",
        "    if friction == True:\n",
        "        solution = scipy.integrate.solve_ivp(f, [0, max_sim_length], [0,0], method = \"Radau\", dense_output=True)\n",
        "    else:\n",
        "        solution = scipy.integrate.solve_ivp(fnofric, [0, max_sim_length], [0,0], method = \"Radau\", dense_output=True)\n",
        "    return solution"
      ],
      "metadata": {
        "id": "TTN9NWfsFtM_"
      },
      "execution_count": 10,
      "outputs": []
    },
    {
      "cell_type": "markdown",
      "source": [
        "Löst die differenzialgleichung mit oder ohne reidung ($\\text{fric}$) für eine bestimmte zeit ($\\text{max sim length}$) mit scipy."
      ],
      "metadata": {
        "id": "1-KBuns8FzLr"
      }
    },
    {
      "cell_type": "code",
      "source": [
        "def find_simulation_lenght(max_lenght,sulution,rr,u,v_min):\n",
        "\n",
        "    for s in range(0,max_lenght):\n",
        "        x = sulution.sol(s)[1]\n",
        "        v = sulution.sol(s)[0]\n",
        "        phi = find_phi(x,rr,u)\n",
        "        if phi > pi and v < v_min:\n",
        "            return s\n",
        "\n",
        "    return max_lenght"
      ],
      "metadata": {
        "id": "YtZe_PWEGyIq"
      },
      "execution_count": 11,
      "outputs": []
    },
    {
      "cell_type": "markdown",
      "source": [
        "findet passende simulationslänge.\n",
        "\n",
        "Returnd wenn $v < \\text{v_min}$ und $φ > π.$"
      ],
      "metadata": {
        "id": "J8U2--pyHB4l"
      }
    },
    {
      "cell_type": "code",
      "source": [
        "def find_Wmf(M, phi):\n",
        "\n",
        "    Wmf = M * phi # e[J] = M[Nm] * phi[rad]\n",
        "\n",
        "    return Wmf #[J]"
      ],
      "metadata": {
        "id": "dpnbs4eHIuSX"
      },
      "execution_count": 17,
      "outputs": []
    },
    {
      "cell_type": "markdown",
      "source": [
        "um zu testen ob der Energieerhaltungssatzt verletzt wurde findet $W_{mf}(M, φ)$ die arbeit die von der mausefalle verrichtet wurde mit dem Drehmoment $M$ und dem winkel $φ$ mit der Formel:\n",
        "\n",
        "$W_{mf} = M \\cdot φ$\n",
        "\n",
        "(diese formel funktionirt nur für eine statische federkraft)"
      ],
      "metadata": {
        "id": "pG4_y7aXIviR"
      }
    },
    {
      "cell_type": "code",
      "source": [
        "def find_Wacc(m,ve,va):\n",
        "\n",
        "    Wacc = (1/2) * m * ve**2 - (1/2) * m * va**2 # Wacc[J] = 1/2m[kg]ve[m/s]² - 1/2m[kg]va[m/s]²\n",
        "\n",
        "    return Wacc #[J]"
      ],
      "metadata": {
        "id": "yWpQDhfDLp2f"
      },
      "execution_count": 18,
      "outputs": []
    },
    {
      "cell_type": "markdown",
      "source": [
        "um zu testen ob der Energieerhaltungssatzt verletzt wurde findet $W_{acc}(m, v_e, v_a)$ die Beschleunigungsarbeit des autos mit der anfangsgeschwindigkeit $v_a$, der Endgeschwindigkeit $v_e$ und der Masse $m$, diese wird berechnet mit der Formel:\n",
        "\n",
        "$W_{acc} = \\frac{1}{2}m \\cdot v_e - \\frac{1}{2}m \\cdot v_a$"
      ],
      "metadata": {
        "id": "ZvmiiiTkMFwj"
      }
    },
    {
      "cell_type": "code",
      "source": [
        "def test(do_print):\n",
        "    solution = solve_ivp(max_sim_length,False)\n",
        "    ve = solution.sol(max_sim_length)[0]\n",
        "    va = solution.sol(0)[0]\n",
        "\n",
        "    Wmf = find_Wmf(2,pi)\n",
        "    Wacc = find_Wacc(m,ve,va)\n",
        "    abweichung = abs(Wmf - Wacc)\n",
        "\n",
        "    print(\"Emf = \"+str(Wmf) + \" J und Eacc = \" + str(Wacc)+ \" J\")\n",
        "\n",
        "    if do_print:\n",
        "        if abweichung < tolleranz:\n",
        "            print(\"kein bug! abweichung: \" + str(abweichung) + \" J\")\n",
        "        else:\n",
        "            print(\"abweichung über tolleranz! abweichung: \" + str(abweichung) + \" J\")\n",
        "    return abweichung"
      ],
      "metadata": {
        "id": "qmkNxij8NiM6"
      },
      "execution_count": 20,
      "outputs": []
    },
    {
      "cell_type": "markdown",
      "source": [
        "prüft ob der Energieerhaltungssatzt verletzt wurde indem sie die arbeit der feder und die der beschleunigung vergleicht."
      ],
      "metadata": {
        "id": "cmuL9hoxNuCT"
      }
    },
    {
      "cell_type": "code",
      "source": [
        "solution = solve_ivp(max_sim_length,friction) # lösung der differenzialgleichung [-]\n",
        "\n",
        "s = find_simulation_lenght(max_sim_length,solution,rr,u,0.1) # passende länge der simulation [s]\n",
        "\n",
        "t = np.linspace(0, s, 300) # vektor von 300 zeitpunkten von 0 bis s [s]\n",
        "\n",
        "plt.plot(t, solution.sol(t)[0].T,label='Speed[m/s]',color=\"green\")\n",
        "plt.plot(t, solution.sol(t)[1].T,label='position[m]',color=(1,0.55,0))\n",
        "plt.plot(t, find_phi(solution.sol(t)[1],rr,u).T,label='Winkel Mausefalle[rad]',color=(0.58,0,0.82))\n",
        "if friction == True:\n",
        "    plt.plot(t, (Fr(solution.sol(t)[0])/m).T,label='Reibung[m/s²]',color=\"red\")\n",
        "\n",
        "plt.xlabel('t')\n",
        "plt.legend()\n",
        "plt.title('Auto')\n",
        "\n",
        "plt.show()\n",
        "test(True) # testet ob der energieerhaltungs satz verletzt wurde"
      ],
      "metadata": {
        "id": "eiUefwMJRWox"
      },
      "execution_count": null,
      "outputs": []
    },
    {
      "cell_type": "markdown",
      "source": [
        "plotet Geschwindigkeit Position Reibung und Winkel der Mausefalle."
      ],
      "metadata": {
        "id": "CozH7f1PRXxf"
      }
    },
    {
      "cell_type": "code",
      "source": [
        "from kivy.app import App\n",
        "from kivy.properties import Clock\n",
        "from kivy.uix.relativelayout import RelativeLayout\n",
        "from kivy.graphics.context_instructions import Color\n",
        "from kivy.graphics.vertex_instructions import Ellipse, Triangle, Rectangle\n",
        "from kivy.properties import StringProperty\n",
        "from main import solve_ivp, find_Fa, find_phi, Fr, rr, u, m, friction, max_sim_length\n",
        "from energiesummentest import test\n",
        "\n",
        "\n",
        "class MainWidget(RelativeLayout):\n",
        "\n",
        "    size_car = 0\n",
        "    time_running = 0\n",
        "    track_start = .1\n",
        "    track_length = .8\n",
        "    car_x = 0\n",
        "\n",
        "    arrow_speed_length = 0\n",
        "    arrow_acceleration_length = 0\n",
        "    arrow_friction_length = 0\n",
        "\n",
        "\n",
        "    sim_speed = 1\n",
        "\n",
        "    sim_play = False\n",
        "    solution = solve_ivp(max_sim_length,friction)\n",
        "    car_a_label = StringProperty(\"a: 0\")\n",
        "    car_v_label = StringProperty(\"v: 0\")\n",
        "    car_x_label = StringProperty(\"x: 0\")\n",
        "    car_t_label = StringProperty(\"t: 0\")\n",
        "\n",
        "\n",
        "    def __init__(self, **kwargs):\n",
        "        super().__init__(**kwargs)\n",
        "        self.innit_speed_arrow()\n",
        "        self.innit_acceleration_arrow()\n",
        "        self.innit_friction_arrow()\n",
        "        self.innit_car()\n",
        "\n",
        "        Clock.schedule_interval(self.update,1.0/60.0) # ruft update() 60 mal pro sekunde\n",
        "\n",
        "    def innit_car(self):\n",
        "        \"\"\"\n",
        "        definirt die formen des autos\n",
        "        \"\"\"\n",
        "        with self.canvas.before:\n",
        "            Color(1,1,1)\n",
        "            self.car = Ellipse()\n",
        "        with self.canvas:\n",
        "            Color(.7,.7,.7)\n",
        "            self.arrow_base_circle_1 = Ellipse()\n",
        "            self.arrow_base_circle_2 = Ellipse()\n",
        "\n",
        "    def innit_speed_arrow(self):\n",
        "        \"\"\"\n",
        "        definirt die formen des geschwindigkeits pfeil\n",
        "        \"\"\"\n",
        "        with self.canvas:\n",
        "            Color(0,0.5,0)\n",
        "            self.speed_arrow_base = Rectangle()\n",
        "        with self.canvas.after:\n",
        "            Color(0,0.6,0)\n",
        "            self.speed_arrow_tip = Triangle()\n",
        "\n",
        "    def innit_acceleration_arrow(self):\n",
        "        \"\"\"\n",
        "        definirt die formen des beschleunigungs pfeil\n",
        "        \"\"\"\n",
        "        with self.canvas:\n",
        "            Color(0,0,0.5)\n",
        "            self.acceleration_arrow_base = Rectangle()\n",
        "        with self.canvas.after:\n",
        "            Color(0,0,0.6)\n",
        "            self.acceleration_arrow_tip = Triangle()\n",
        "\n",
        "    def innit_friction_arrow(self):\n",
        "        \"\"\"\n",
        "        definirt die formen des reibungs pfeil\n",
        "        \"\"\"\n",
        "        with self.canvas:\n",
        "            Color(0.6,0,0)\n",
        "            self.friction_arrow_base = Rectangle()\n",
        "        with self.canvas.after:\n",
        "            Color(0.7,0,0)\n",
        "            self.friction_arrow_tip = Triangle()\n",
        "\n",
        "    def start_stop(self,obj):\n",
        "        \"\"\"\n",
        "        startet und stopt die simulation\n",
        "        \"\"\"\n",
        "        if obj.state == \"down\":\n",
        "            self.sim_play = True\n",
        "            obj.text = \"stop\"\n",
        "        if obj.state == \"normal\":\n",
        "            self.sim_play = False\n",
        "            obj.text = \"start\"\n",
        "\n",
        "    def restart(self):\n",
        "        \"\"\"\n",
        "        starttet die simulation neu\n",
        "        \"\"\"\n",
        "        self.time_running = 0\n",
        "\n",
        "    def speed_change(self,obj):\n",
        "        self.sim_speed = obj.value\n",
        "\n",
        "    def draw_triangle(self,extra_y,length,direction):\n",
        "        \"\"\"\n",
        "        berechnet die koordinaten der punkte eines pfeils\n",
        "        \"\"\"\n",
        "        arrow_pos_x = self.car_x+self.size_car*0.5\n",
        "        arrow_y = self.size_car*0.5\n",
        "        arrow_base_pos = arrow_pos_x,arrow_y-self.size_car*0.08+extra_y\n",
        "        arrow_base_size = length,self.size_car*0.16\n",
        "        point1 = (arrow_pos_x+length,arrow_y-self.height/75+extra_y)\n",
        "        point2 = (arrow_pos_x+length,arrow_y+self.height/75+extra_y)\n",
        "        point3 = (arrow_pos_x+length+(self.width/60)*direction,arrow_y+extra_y)\n",
        "        return (arrow_base_pos,arrow_base_size,(*point1, *point2, *point3))\n",
        "\n",
        "    def update_speed_arrow(self):\n",
        "        self.arrow_speed_length = self.speed*10*(self.width/800)\n",
        "        base_pos,base_size,points = self.draw_triangle(self.size_car*-0.3,self.arrow_speed_length,1)\n",
        "        self.speed_arrow_base.pos = base_pos\n",
        "        self.speed_arrow_base.size = base_size\n",
        "        self.speed_arrow_tip.points = [*points]\n",
        "\n",
        "    def update_acceleration_arrow(self):\n",
        "        self.arrow_acceleration_length = self.acceleration*10*(self.width/800)\n",
        "        base_pos,base_size,points = self.draw_triangle(self.size_car*0.3,self.arrow_acceleration_length,1)\n",
        "        self.acceleration_arrow_base.pos = base_pos\n",
        "        self.acceleration_arrow_base.size = base_size\n",
        "        self.acceleration_arrow_tip.points = [*points]\n",
        "\n",
        "    def update_friction_arrow(self):\n",
        "        if friction == True:\n",
        "            self.arrow_friction_length = self.friction*10*(self.width/800)\n",
        "        else:\n",
        "            self.arrow_friction_length = 0\n",
        "        base_pos,base_size,points = self.draw_triangle(self.size_car*0.3,-self.arrow_friction_length,-1)\n",
        "        self.friction_arrow_base.pos = base_pos\n",
        "        self.friction_arrow_base.size = base_size\n",
        "        self.friction_arrow_tip.points = [*points]\n",
        "\n",
        "    def update_car(self):\n",
        "        self.size_car = self.width/20\n",
        "        self.max_distance = self.solution.sol(max_sim_length)[1]\n",
        "        self.distance_percent = self.distance / self.max_distance\n",
        "        self.car_x = (self.track_start*self.width) + (self.track_length*self.width) * self.distance_percent\n",
        "        self.car.size = (self.size_car,self.size_car)\n",
        "        self.car.pos = (self.car_x,0)\n",
        "        self.arrow_base_circle_1.size = (self.size_car*0.3,self.size_car*0.3)\n",
        "        self.arrow_base_circle_1.pos = (self.car_x+self.size_car*0.35,self.size_car*0.05)\n",
        "        self.arrow_base_circle_2.size = (self.size_car*0.3,self.size_car*0.3)\n",
        "        self.arrow_base_circle_2.pos = (self.car_x+self.size_car*0.35,self.size_car*0.65)\n",
        "\n",
        "    def update_lables(self):\n",
        "        self.car_a_label = \"a: \" + str(round(self.acceleration-self.friction,1)) + \"m/s²\"\n",
        "        self.car_v_label = \"v: \" + str(round(self.speed,1)) + \"m/s\"\n",
        "        self.car_x_label = \"x: \" + str(round(self.distance,1)) + \"m\"\n",
        "        self.car_t_label = \"t: \" + str(round(self.time_running,1)) + \"s\"\n",
        "\n",
        "    def update(self,dt):\n",
        "        \"\"\"\n",
        "        updatet alle formen\n",
        "        \"\"\"\n",
        "\n",
        "        if self.sim_play:\n",
        "            self.time_running += dt*self.sim_speed\n",
        "\n",
        "        self.distance = self.solution.sol(self.time_running)[1]\n",
        "        self.speed = self.solution.sol(self.time_running)[0]\n",
        "        self.acceleration = find_Fa(rr,u,find_phi(self.distance,rr,u))/m\n",
        "        self.friction = (Fr(self.speed))/m\n",
        "\n",
        "        self.update_speed_arrow()\n",
        "        self.update_acceleration_arrow()\n",
        "        self.update_friction_arrow()\n",
        "        self.update_lables()\n",
        "        self.update_car()\n",
        "\n",
        "class AutoAnimationApp(App):\n",
        "    def build(self):\n",
        "        self.load_string(\"\"\"\n",
        "        MainWidget:\n",
        "\n",
        "            BoxLayout:\n",
        "                pos_hint: {\"x\":.025,\"y\":.775}\n",
        "                size_hint: (.35,.2)\n",
        "                orientation: 'vertical'\n",
        "                BoxLayout:\n",
        "                    ToggleButton:\n",
        "                        size_hint: (.9,.9)\n",
        "                        on_press: root.start_stop(self)\n",
        "                        text: \"start\"\n",
        "                        font_size: str(root.width/50)+\"dp\"\n",
        "                    Button:\n",
        "                        size_hint: (.9,.9)\n",
        "                        on_press: root.restart()\n",
        "                        text: \"restart\"\n",
        "                        font_size: str(root.width/50)+\"dp\"\n",
        "                Label:\n",
        "                    text: \"sim speed: \" + str(round(slider.value,1))\n",
        "                    font_size: str(root.width/50)+\"dp\"\n",
        "                Slider:\n",
        "                    id: slider\n",
        "                    min: .1\n",
        "                    max: 2\n",
        "                    value: 1\n",
        "                    on_value: root.speed_change(self)\n",
        "\n",
        "            BoxLayout:\n",
        "                pos_hint: {\"x\":.8,\"y\":.65}\n",
        "                size_hint: (.15,.3)\n",
        "                orientation: 'vertical'\n",
        "                Label:\n",
        "                    text: root.car_a_label\n",
        "                    font_size: str(root.width/50)+\"dp\"\n",
        "                Label:\n",
        "                    text: root.car_v_label\n",
        "                    font_size: str(root.width/50)+\"dp\"\n",
        "                Label:\n",
        "                    text: root.car_x_label\n",
        "                    font_size: str(root.width/50)+\"dp\"\n",
        "                Label:\n",
        "                    text: root.car_t_label\n",
        "                    font_size: str(root.width/50)+\"dp\"\n",
        "\n",
        "            BoxLayout:\n",
        "                pos_hint: {\"x\":.45,\"y\":.9}\n",
        "                size_hint: (.3,.05)\n",
        "                orientation: 'vertical'\n",
        "                BoxLayout:\n",
        "                    spacing: 10\n",
        "                    size_hint: (1,.07)\n",
        "                    RelativeLayout:\n",
        "                        canvas:\n",
        "                            Color:\n",
        "                                rgb: 0, .6, 0\n",
        "                            Rectangle:\n",
        "                                size: self.size\n",
        "                    RelativeLayout:\n",
        "                        canvas:\n",
        "                            Color:\n",
        "                                rgb: 0, 0, .6\n",
        "                            Rectangle:\n",
        "                                size: self.size\n",
        "                    RelativeLayout:\n",
        "                        canvas:\n",
        "                            Color:\n",
        "                                rgb: .7, 0, 0\n",
        "                            Rectangle:\n",
        "                                size: self.size\n",
        "                BoxLayout:\n",
        "                    Label:\n",
        "                        text: \"Speed\"\n",
        "                        font_size: str(root.width/50)+\"dp\"\n",
        "                    Label:\n",
        "                        text: \"Acceleration\"\n",
        "                        font_size: str(root.width/50)+\"dp\"\n",
        "                    Label:\n",
        "                        text: \"Friction\"\n",
        "                        font_size: str(root.width/50)+\"dp\"\n",
        "        \"\"\")\n",
        "\n",
        "AutoAnimationApp().run() # startet die app\n",
        "test(True) # testet ob der energie erhaltungssatz verletzt wurde"
      ],
      "metadata": {
        "id": "EEQhWaywPduL"
      },
      "execution_count": null,
      "outputs": []
    },
    {
      "cell_type": "markdown",
      "source": [
        "Animation"
      ],
      "metadata": {
        "id": "1HDRu8LgQbKB"
      }
    }
  ]
}