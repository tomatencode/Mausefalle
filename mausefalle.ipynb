{
  "nbformat": 4,
  "nbformat_minor": 0,
  "metadata": {
    "colab": {
      "provenance": [],
      "toc_visible": true,
      "include_colab_link": true
    },
    "kernelspec": {
      "name": "python3",
      "display_name": "Python 3"
    },
    "language_info": {
      "name": "python"
    }
  },
  "cells": [
    {
      "cell_type": "markdown",
      "metadata": {
        "id": "view-in-github",
        "colab_type": "text"
      },
      "source": [
        "<a href=\"https://colab.research.google.com/github/tomatencode/Mausefalle/blob/main/mausefalle.ipynb\" target=\"_parent\"><img src=\"https://colab.research.google.com/assets/colab-badge.svg\" alt=\"Open In Colab\"/></a>"
      ]
    },
    {
      "cell_type": "markdown",
      "source": [
        "**Mausefalle**"
      ],
      "metadata": {
        "id": "Ce-LOpW3553K"
      }
    },
    {
      "cell_type": "code",
      "source": [
        "from math import *\n",
        "import scipy\n",
        "import matplotlib.pyplot as plt\n",
        "import numpy as np"
      ],
      "metadata": {
        "id": "SaCqiR0F7rob"
      },
      "execution_count": 2,
      "outputs": []
    },
    {
      "cell_type": "code",
      "execution_count": 3,
      "metadata": {
        "id": "wm-10Ozu5wCt"
      },
      "outputs": [],
      "source": [
        "u = 50 #[-] Verhältnis von Drehmoment der Feder zu Drehmoment der Achse\n",
        "rr = 0.1 #[m] radius des antriebsreifen\n",
        "m = 0.1 #[kg] masse des autos\n",
        "\n",
        "friction = True\n",
        "max_sim_length = 60 #[s] maximum simulation length\n",
        "\n",
        "tolleranz = 0.05 # erlaubte abweichung des energie erhaltungs Satzes"
      ]
    },
    {
      "cell_type": "markdown",
      "source": [
        "defenirt eigenschaften für auto und simulation"
      ],
      "metadata": {
        "id": "lPGRq-nD61JT"
      }
    },
    {
      "cell_type": "code",
      "source": [
        "def find_Fr(v):\n",
        "\n",
        "    return v / 20 # Wiederstand in [N] (Schätzwert)"
      ],
      "metadata": {
        "id": "IUQb5nNI7htL"
      },
      "execution_count": 4,
      "outputs": []
    },
    {
      "cell_type": "code",
      "source": [
        "def find_Ff(phi):\n",
        "\n",
        "    if phi < pi:\n",
        "        return 2 # Kraft der Feder in [Nm] (Schätzwert)\n",
        "    else:\n",
        "        return 0 # Kraft der Feder in [Nm]"
      ],
      "metadata": {
        "id": "fu3OCUTFJnW8"
      },
      "execution_count": 5,
      "outputs": []
    },
    {
      "cell_type": "markdown",
      "source": [
        "Benutzerdefinirte Funktionen zur berechnung von Federkraft und Reibung."
      ],
      "metadata": {
        "id": "ViIYDdWk7nQD"
      }
    },
    {
      "cell_type": "code",
      "source": [
        "def find_phi(x,rr,u):\n",
        "\n",
        "    ur = 2 * pi * rr # ur[m] = 2pi[-] * rr[m]\n",
        "    phi = x / ( ur * u ) # phi[-] = x[m] / (ur[m] * u[-])\n",
        "    phi_rad = 2 * pi * phi # phi_rad[rad] = 2pi[-] * phi[-]\n",
        "\n",
        "    return phi_rad # [rad]"
      ],
      "metadata": {
        "id": "0lRqCEQE8VUW"
      },
      "execution_count": 6,
      "outputs": []
    },
    {
      "cell_type": "markdown",
      "source": [
        "find_phi findet den Winkel der Mausefalle in radien.\n",
        "Dafür berechnet sie den umfang des Rades $ur$ mit dem radius $rr$:\n",
        "\n",
        "$ur = 2π \\cdot rr$\n",
        "\n",
        "dann berechnet sie die umdrehungen der falle $φ$ mit der zurückgelegten Strecke $x$ und der Getriebeübersetztung $u$:\n",
        "\n",
        "$φ = \\frac{x}{ur \\cdot u}$\n",
        "\n",
        "die umrehungen weden dann in Radien umgerechnet:\n",
        "\n",
        "$φ_{rad} = 2π \\cdot φ$"
      ],
      "metadata": {
        "id": "hLoILkR18kxb"
      }
    },
    {
      "cell_type": "code",
      "source": [
        "def find_Fa(rr,u,phi):\n",
        "\n",
        "    Ma = find_Ff(phi) # Ma[Nm] = Ff(phi[rad])[Nm]\n",
        "    Me = Ma / u # Me[Nm] = Ma / ü[-]\n",
        "    Fa = Me / rr # Fa[Nm] = Me[Nm] / rr[m]\n",
        "\n",
        "    return Fa # [N]"
      ],
      "metadata": {
        "id": "IpT0wf6y-A87"
      },
      "execution_count": 7,
      "outputs": []
    },
    {
      "cell_type": "markdown",
      "source": [
        "find_Fa findet die beschleunigungskraft des Autos $F_a$.\n",
        "dafur berechnet es das Drehmoment der mausefalle $M_a$ mit:\n",
        "\n",
        "$M_a = F_f(φ)$\n",
        "\n",
        "dann findet sie das Drehmoment der Achse $M_e$ mit der Getriebeübersetztung $u$:\n",
        "\n",
        "$M_e = \\frac{M_a}{u}$\n",
        "\n",
        "anschließend renchnet die Funktion $M_e$ in $F_a$ mit dem Radius der Reifen $rr$ um:\n",
        "\n",
        "$F_a = \\frac{M_e}{rr}$"
      ],
      "metadata": {
        "id": "NT7NxWZn-Gai"
      }
    },
    {
      "cell_type": "code",
      "source": [
        "def f(t, y):\n",
        "\n",
        "    [v,x] = y\n",
        "\n",
        "    return [ (find_Fa(rr,u,find_phi(x,rr,u)) - find_Fr(v))/m, v]\n"
      ],
      "metadata": {
        "id": "bpZ89SSdD0rc"
      },
      "execution_count": 8,
      "outputs": []
    },
    {
      "cell_type": "code",
      "source": [
        "def fnofric(t, y):\n",
        "\n",
        "    [v,x] = y\n",
        "\n",
        "    return [ find_Fa(rr,u,find_phi(x,rr,u))/m, v]"
      ],
      "metadata": {
        "id": "SBxa5PDwJZZM"
      },
      "execution_count": 9,
      "outputs": []
    },
    {
      "cell_type": "markdown",
      "source": [
        "$f(t, v, x)$ ist die differenzialgleichung mit der position und Geschwindigkeit des autos berechnet werden.\n",
        "\n",
        "$\\frac{dv}{dt} = F_a - F_r$\n",
        "\n",
        "$\\frac{dx}{dt} = v$\n",
        "\n",
        "$f_{no fric}(t, v,x)$ berechnet das selbe bei vernachlässigung der Reibung."
      ],
      "metadata": {
        "id": "eoJRtncZD7Lm"
      }
    },
    {
      "cell_type": "code",
      "source": [
        "def solve_ivp(max_sim_length,friction):\n",
        "\n",
        "    if friction == True:\n",
        "        solution = scipy.integrate.solve_ivp(f, [0, max_sim_length], [0,0], method = \"Radau\", dense_output=True)\n",
        "    else:\n",
        "        solution = scipy.integrate.solve_ivp(fnofric, [0, max_sim_length], [0,0], method = \"Radau\", dense_output=True)\n",
        "    return solution"
      ],
      "metadata": {
        "id": "TTN9NWfsFtM_"
      },
      "execution_count": 10,
      "outputs": []
    },
    {
      "cell_type": "markdown",
      "source": [
        "Löst die differenzialgleichung mit oder ohne reidung ($\\text{fric}$) für eine bestimmte zeit ($\\text{max sim length}$) mit scipy."
      ],
      "metadata": {
        "id": "1-KBuns8FzLr"
      }
    },
    {
      "cell_type": "code",
      "source": [
        "def find_simulation_lenght(max_lenght,sulution,rr,u,v_min):\n",
        "\n",
        "    for s in range(0,max_lenght):\n",
        "        x = sulution.sol(s)[1]\n",
        "        v = sulution.sol(s)[0]\n",
        "        phi = find_phi(x,rr,u)\n",
        "        if phi > pi and v < v_min:\n",
        "            return s\n",
        "\n",
        "    return max_lenght"
      ],
      "metadata": {
        "id": "YtZe_PWEGyIq"
      },
      "execution_count": 11,
      "outputs": []
    },
    {
      "cell_type": "markdown",
      "source": [
        "findet passende simulationslänge.\n",
        "\n",
        "Returnd wenn $v < \\text{v_min}$ und $φ > π.$"
      ],
      "metadata": {
        "id": "J8U2--pyHB4l"
      }
    },
    {
      "cell_type": "code",
      "source": [
        "def find_Wmf(M, phi):\n",
        "\n",
        "    Wmf = M * phi # e[J] = M[Nm] * phi[rad]\n",
        "\n",
        "    return Wmf #[J]"
      ],
      "metadata": {
        "id": "dpnbs4eHIuSX"
      },
      "execution_count": 12,
      "outputs": []
    },
    {
      "cell_type": "markdown",
      "source": [
        "um zu testen ob der Energieerhaltungssatzt verletzt wurde findet $W_{mf}(M, φ)$ die arbeit die von der mausefalle verrichtet wurde mit dem Drehmoment $M$ und dem winkel $φ$ mit der Formel:\n",
        "\n",
        "$W_{mf} = M \\cdot φ$\n",
        "\n",
        "(diese formel funktionirt nur für eine statische federkraft)"
      ],
      "metadata": {
        "id": "pG4_y7aXIviR"
      }
    },
    {
      "cell_type": "code",
      "source": [
        "def find_Wacc(m,ve,va):\n",
        "\n",
        "    Wacc = (1/2) * m * ve**2 - (1/2) * m * va**2 # Wacc[J] = 1/2m[kg]ve[m/s]² - 1/2m[kg]va[m/s]²\n",
        "\n",
        "    return Wacc #[J]"
      ],
      "metadata": {
        "id": "yWpQDhfDLp2f"
      },
      "execution_count": 13,
      "outputs": []
    },
    {
      "cell_type": "markdown",
      "source": [
        "um zu testen ob der Energieerhaltungssatzt verletzt wurde findet $W_{acc}(m, v_e, v_a)$ die Beschleunigungsarbeit des autos mit der anfangsgeschwindigkeit $v_a$, der Endgeschwindigkeit $v_e$ und der Masse $m$, diese wird berechnet mit der Formel:\n",
        "\n",
        "$W_{acc} = \\frac{1}{2}m \\cdot v_e - \\frac{1}{2}m \\cdot v_a$"
      ],
      "metadata": {
        "id": "ZvmiiiTkMFwj"
      }
    },
    {
      "cell_type": "code",
      "source": [
        "def test(do_print):\n",
        "    solution = solve_ivp(max_sim_length,False)\n",
        "    ve = solution.sol(max_sim_length)[0]\n",
        "    va = solution.sol(0)[0]\n",
        "\n",
        "    Wmf = find_Wmf(2,pi)\n",
        "    Wacc = find_Wacc(m,ve,va)\n",
        "    abweichung = abs(Wmf - Wacc)\n",
        "\n",
        "    print(\"Emf = \"+str(Wmf) + \" J und Eacc = \" + str(Wacc)+ \" J\")\n",
        "\n",
        "    if do_print:\n",
        "        if abweichung < tolleranz:\n",
        "            print(\"kein bug! abweichung: \" + str(abweichung) + \" J\")\n",
        "        else:\n",
        "            print(\"abweichung über tolleranz! abweichung: \" + str(abweichung) + \" J\")\n",
        "    return abweichung"
      ],
      "metadata": {
        "id": "qmkNxij8NiM6"
      },
      "execution_count": 14,
      "outputs": []
    },
    {
      "cell_type": "markdown",
      "source": [
        "prüft ob der Energieerhaltungssatzt verletzt wurde indem sie die arbeit der feder und die der beschleunigung vergleicht."
      ],
      "metadata": {
        "id": "cmuL9hoxNuCT"
      }
    },
    {
      "cell_type": "code",
      "source": [
        "solution = solve_ivp(max_sim_length,friction) # lösung der differenzialgleichung [-]\n",
        "\n",
        "s = find_simulation_lenght(max_sim_length,solution,rr,u,0.1) # passende länge der simulation [s]\n",
        "\n",
        "t = np.linspace(0, s, 300) # vektor von 300 zeitpunkten von 0 bis s [s]\n",
        "\n",
        "plt.plot(t, solution.sol(t)[0].T,label='Speed[m/s]',color=\"green\")\n",
        "plt.plot(t, solution.sol(t)[1].T,label='position[m]',color=(1,0.55,0))\n",
        "plt.plot(t, find_phi(solution.sol(t)[1],rr,u).T,label='Winkel Mausefalle[rad]',color=(0.58,0,0.82))\n",
        "if friction == True:\n",
        "    plt.plot(t, (find_Fr(solution.sol(t)[0])/m).T,label='Reibung[m/s²]',color=\"red\")\n",
        "\n",
        "plt.xlabel('t')\n",
        "plt.legend()\n",
        "plt.title('Auto')\n",
        "\n",
        "plt.show()\n",
        "test(True) # testet ob der energieerhaltungs satz verletzt wurde"
      ],
      "metadata": {
        "id": "eiUefwMJRWox",
        "colab": {
          "base_uri": "https://localhost:8080/",
          "height": 524
        },
        "outputId": "1bf3dd4f-f6e5-4973-c0b7-270abd517c9e"
      },
      "execution_count": 18,
      "outputs": [
        {
          "output_type": "display_data",
          "data": {
            "text/plain": [
              "<Figure size 640x480 with 1 Axes>"
            ],
            "image/png": "[encoded data removed]"
          },
          "metadata": {}
        },
        {
          "output_type": "stream",
          "name": "stdout",
          "text": [
            "Emf = 6.283185307179586 J und Eacc = 6.297916582610997 J\n",
            "kein bug! abweichung: 0.014731275431410396 J\n"
          ]
        },
        {
          "output_type": "execute_result",
          "data": {
            "text/plain": [
              "0.014731275431410396"
            ]
          },
          "metadata": {},
          "execution_count": 18
        }
      ]
    },
    {
      "cell_type": "markdown",
      "source": [
        "plotet Geschwindigkeit Position Reibung und Winkel der Mausefalle."
      ],
      "metadata": {
        "id": "CozH7f1PRXxf"
      }
    }
  ]
}